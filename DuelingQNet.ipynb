{
 "cells": [
  {
   "cell_type": "markdown",
   "metadata": {},
   "source": [
    "# Navigation using Dueling Q-Network\n",
    "\n",
    "## Implementation  \n",
    "\n",
    "#### Currently this network *does not* perform as well as the DQN *topology* (ongoing)\n",
    "\n",
    "\n",
    "Dueling Q-Network uses two streams: one for estimating the state-value (value stream) and another for advantages for each action (advantage stream). \n",
    "\n",
    "For state `s`, network parameters before the stream split `theta`, value stream parameters `beta`, and advantage stream paramters `alpha`, let the output of the state-value stream be denoted as `V(s; beta, theta)` and the output of the advandate stream be `A(s, a; alpha, theta)`. `V(s; beta, theta)` is a scalar, while `A(s, a; alpha, theta)` is a vector of size `|A|`, where `A` denotes the action space. The output of the Dueling Q-Network is:\n",
    "\n",
    "    Q(s, a; alpha, beta, theta) = V(s; beta, theta) + (A(s, a; alpha, theta) - mean_a'(A(s, a'; alpha, theta)))\n",
    "    \n",
    "\n",
    "*Note*: The results of this architecture were not as good as the DQN architectures. More work is needed.\n"
   ]
  },
  {
   "cell_type": "markdown",
   "metadata": {},
   "source": [
    "In this notebook, you will learn how to use the Unity ML-Agents environment for the first project of the [Deep Reinforcement Learning Nanodegree](https://www.udacity.com/course/deep-reinforcement-learning-nanodegree--nd893).\n",
    "\n",
    "### 1. Start the Environment\n",
    "\n",
    "We begin by importing some necessary packages.  If the code cell below returns an error, please revisit the project instructions to double-check that you have installed [Unity ML-Agents](https://github.com/Unity-Technologies/ml-agents/blob/master/docs/Installation.md) and [NumPy](http://www.numpy.org/)."
   ]
  },
  {
   "cell_type": "code",
   "execution_count": 1,
   "metadata": {},
   "outputs": [],
   "source": [
    "from unityagents import UnityEnvironment\n",
    "import numpy as np"
   ]
  },
  {
   "cell_type": "code",
   "execution_count": 2,
   "metadata": {
    "scrolled": true
   },
   "outputs": [
    {
     "name": "stdout",
     "output_type": "stream",
     "text": [
      "Requirement already up-to-date: imbalanced-learn in /Users/gertituzi/miniconda3/envs/rl/lib/python3.5/site-packages (0.4.2)\n",
      "Requirement already satisfied, skipping upgrade: scipy>=0.13.3 in /Users/gertituzi/miniconda3/envs/rl/lib/python3.5/site-packages (from imbalanced-learn) (1.1.0)\n",
      "Requirement already satisfied, skipping upgrade: scikit-learn>=0.20 in /Users/gertituzi/miniconda3/envs/rl/lib/python3.5/site-packages (from imbalanced-learn) (0.20.0)\n",
      "Requirement already satisfied, skipping upgrade: numpy>=1.8.2 in /Users/gertituzi/miniconda3/envs/rl/lib/python3.5/site-packages (from imbalanced-learn) (1.15.2)\n",
      "Requirement already satisfied: recordclass in /Users/gertituzi/miniconda3/envs/rl/lib/python3.5/site-packages (0.5)\n",
      "Requirement already satisfied: scikit-image in /Users/gertituzi/miniconda3/envs/rl/lib/python3.5/site-packages (0.14.0)\n",
      "Requirement already satisfied: matplotlib>=2.0.0 in /Users/gertituzi/miniconda3/envs/rl/lib/python3.5/site-packages (from scikit-image) (3.0.0)\n",
      "Requirement already satisfied: networkx>=1.8 in /Users/gertituzi/miniconda3/envs/rl/lib/python3.5/site-packages (from scikit-image) (2.2)\n",
      "Requirement already satisfied: six>=1.10.0 in /Users/gertituzi/miniconda3/envs/rl/lib/python3.5/site-packages (from scikit-image) (1.11.0)\n",
      "Requirement already satisfied: pillow>=4.3.0 in /Users/gertituzi/miniconda3/envs/rl/lib/python3.5/site-packages (from scikit-image) (5.3.0)\n",
      "Requirement already satisfied: PyWavelets>=0.4.0 in /Users/gertituzi/miniconda3/envs/rl/lib/python3.5/site-packages (from scikit-image) (1.0.1)\n",
      "Requirement already satisfied: dask[array]>=0.9.0 in /Users/gertituzi/miniconda3/envs/rl/lib/python3.5/site-packages (from scikit-image) (0.19.3)\n",
      "Requirement already satisfied: cloudpickle>=0.2.1 in /Users/gertituzi/miniconda3/envs/rl/lib/python3.5/site-packages (from scikit-image) (0.5.6)\n",
      "Requirement already satisfied: numpy>=1.10.0 in /Users/gertituzi/miniconda3/envs/rl/lib/python3.5/site-packages (from matplotlib>=2.0.0->scikit-image) (1.15.2)\n",
      "Requirement already satisfied: cycler>=0.10 in /Users/gertituzi/miniconda3/envs/rl/lib/python3.5/site-packages (from matplotlib>=2.0.0->scikit-image) (0.10.0)\n",
      "Requirement already satisfied: kiwisolver>=1.0.1 in /Users/gertituzi/miniconda3/envs/rl/lib/python3.5/site-packages (from matplotlib>=2.0.0->scikit-image) (1.0.1)\n",
      "Requirement already satisfied: pyparsing!=2.0.4,!=2.1.2,!=2.1.6,>=2.0.1 in /Users/gertituzi/miniconda3/envs/rl/lib/python3.5/site-packages (from matplotlib>=2.0.0->scikit-image) (2.2.2)\n",
      "Requirement already satisfied: python-dateutil>=2.1 in /Users/gertituzi/miniconda3/envs/rl/lib/python3.5/site-packages (from matplotlib>=2.0.0->scikit-image) (2.7.3)\n",
      "Requirement already satisfied: decorator>=4.3.0 in /Users/gertituzi/miniconda3/envs/rl/lib/python3.5/site-packages (from networkx>=1.8->scikit-image) (4.3.0)\n",
      "Requirement already satisfied: toolz>=0.7.3; extra == \"array\" in /Users/gertituzi/miniconda3/envs/rl/lib/python3.5/site-packages (from dask[array]>=0.9.0->scikit-image) (0.9.0)\n",
      "Requirement already satisfied: setuptools in /Users/gertituzi/miniconda3/envs/rl/lib/python3.5/site-packages (from kiwisolver>=1.0.1->matplotlib>=2.0.0->scikit-image) (40.4.3)\n"
     ]
    }
   ],
   "source": [
    "# Install a pip package in the current Jupyter kernel\n",
    "import sys\n",
    "!{sys.executable} -m pip install -U imbalanced-learn\n",
    "!{sys.executable} -m pip install recordclass\n",
    "!{sys.executable} -m pip install scikit-image"
   ]
  },
  {
   "cell_type": "markdown",
   "metadata": {},
   "source": [
    "Next, we will start the environment!  **_Before running the code cell below_**, change the `file_name` parameter to match the location of the Unity environment that you downloaded.\n",
    "\n",
    "- **Mac**: `\"path/to/Banana.app\"`\n",
    "- **Windows** (x86): `\"path/to/Banana_Windows_x86/Banana.exe\"`\n",
    "- **Windows** (x86_64): `\"path/to/Banana_Windows_x86_64/Banana.exe\"`\n",
    "- **Linux** (x86): `\"path/to/Banana_Linux/Banana.x86\"`\n",
    "- **Linux** (x86_64): `\"path/to/Banana_Linux/Banana.x86_64\"`\n",
    "- **Linux** (x86, headless): `\"path/to/Banana_Linux_NoVis/Banana.x86\"`\n",
    "- **Linux** (x86_64, headless): `\"path/to/Banana_Linux_NoVis/Banana.x86_64\"`\n",
    "\n",
    "For instance, if you are using a Mac, then you downloaded `Banana.app`.  If this file is in the same folder as the notebook, then the line below should appear as follows:\n",
    "```\n",
    "env = UnityEnvironment(file_name=\"Banana.app\")\n",
    "```"
   ]
  },
  {
   "cell_type": "code",
   "execution_count": 3,
   "metadata": {},
   "outputs": [
    {
     "name": "stderr",
     "output_type": "stream",
     "text": [
      "INFO:unityagents:\n",
      "'Academy' started successfully!\n",
      "Unity Academy name: Academy\n",
      "        Number of Brains: 1\n",
      "        Number of External Brains : 1\n",
      "        Lesson number : 0\n",
      "        Reset Parameters :\n",
      "\t\t\n",
      "Unity brain name: BananaBrain\n",
      "        Number of Visual Observations (per agent): 0\n",
      "        Vector Observation space type: continuous\n",
      "        Vector Observation space size (per agent): 37\n",
      "        Number of stacked Vector Observation: 1\n",
      "        Vector Action space type: discrete\n",
      "        Vector Action space size (per agent): 4\n",
      "        Vector Action descriptions: , , , \n"
     ]
    }
   ],
   "source": [
    "from sys import platform as _platform\n",
    "\n",
    "if _platform == \"linux\" or _platform == \"linux2\":\n",
    "   # linux\n",
    "    env = UnityEnvironment(file_name=\"./Banana_Linux/Banana.x86_64\")\n",
    "elif _platform == \"darwin\":\n",
    "   # MAC OS X\n",
    "   env = UnityEnvironment(file_name=\"Banana.app\")"
   ]
  },
  {
   "cell_type": "markdown",
   "metadata": {},
   "source": [
    "Environments contain **_brains_** which are responsible for deciding the actions of their associated agents. Here we check for the first brain available, and set it as the default brain we will be controlling from Python."
   ]
  },
  {
   "cell_type": "code",
   "execution_count": 4,
   "metadata": {},
   "outputs": [],
   "source": [
    "# get the default brain\n",
    "brain_name = env.brain_names[0]\n",
    "brain = env.brains[brain_name]"
   ]
  },
  {
   "cell_type": "code",
   "execution_count": 5,
   "metadata": {},
   "outputs": [
    {
     "name": "stdout",
     "output_type": "stream",
     "text": [
      "{'BananaBrain': <unityagents.brain.BrainParameters object at 0x1141e4160>}\n"
     ]
    }
   ],
   "source": [
    "print(env.brains)"
   ]
  },
  {
   "cell_type": "markdown",
   "metadata": {},
   "source": [
    "### 2. Examine the State and Action Spaces\n",
    "\n",
    "The simulation contains a single agent that navigates a large environment.  At each time step, it has four actions at its disposal:\n",
    "- `0` - walk forward \n",
    "- `1` - walk backward\n",
    "- `2` - turn left\n",
    "- `3` - turn right\n",
    "\n",
    "The state space has `37` dimensions and contains the agent's velocity, along with ray-based perception of objects around agent's forward direction.  A reward of `+1` is provided for collecting a yellow banana, and a reward of `-1` is provided for collecting a blue banana. \n",
    "\n",
    "Run the code cell below to print some information about the environment."
   ]
  },
  {
   "cell_type": "code",
   "execution_count": 6,
   "metadata": {},
   "outputs": [
    {
     "name": "stdout",
     "output_type": "stream",
     "text": [
      "Number of agents: 1\n",
      "Number of actions: 4\n",
      "States look like: [1.         0.         0.         0.         0.84408134 0.\n",
      " 0.         1.         0.         0.0748472  0.         1.\n",
      " 0.         0.         0.25755    1.         0.         0.\n",
      " 0.         0.74177343 0.         1.         0.         0.\n",
      " 0.25854847 0.         0.         1.         0.         0.09355672\n",
      " 0.         1.         0.         0.         0.31969345 0.\n",
      " 0.        ]\n",
      "States have length: 37\n"
     ]
    }
   ],
   "source": [
    "# reset the environment\n",
    "env_info = env.reset(train_mode=True)[brain_name]\n",
    "\n",
    "# number of agents in the environment\n",
    "print('Number of agents:', len(env_info.agents))\n",
    "\n",
    "# number of actions\n",
    "action_size = brain.vector_action_space_size\n",
    "print('Number of actions:', action_size)\n",
    "\n",
    "# examine the state space \n",
    "state = env_info.vector_observations[0]\n",
    "print('States look like:', state)\n",
    "state_size = len(state)\n",
    "print('States have length:', state_size)"
   ]
  },
  {
   "cell_type": "markdown",
   "metadata": {},
   "source": [
    "### 3. Take Random Actions in the Environment\n",
    "\n",
    "In the next code cell, you will learn how to use the Python API to control the agent and receive feedback from the environment.\n",
    "\n",
    "Once this cell is executed, you will watch the agent's performance, if it selects an action (uniformly) at random with each time step.  A window should pop up that allows you to observe the agent, as it moves through the environment.  \n",
    "\n",
    "Of course, as part of the project, you'll have to change the code so that the agent is able to use its experience to gradually choose better actions when interacting with the environment!"
   ]
  },
  {
   "cell_type": "code",
   "execution_count": 7,
   "metadata": {},
   "outputs": [],
   "source": [
    "# env_info = env.reset(train_mode=False)[brain_name] # reset the environment\n",
    "# state = env_info.vector_observations[0]            # get the current state\n",
    "# score = 0                                          # initialize the score\n",
    "# while True:\n",
    "#     action = np.random.randint(action_size)        # select an action\n",
    "#     env_info = env.step(action)[brain_name]        # send the action to the environment\n",
    "#     next_state = env_info.vector_observations[0]   # get the next state\n",
    "#     reward = env_info.rewards[0]                   # get the reward\n",
    "#     done = env_info.local_done[0]                  # see if episode has finished\n",
    "#     score += reward                                # update the score\n",
    "#     state = next_state                             # roll over the state to next time step\n",
    "#     if done:                                       # exit loop if episode finished\n",
    "#         break\n",
    "    \n",
    "# print(\"Score: {}\".format(score))"
   ]
  },
  {
   "cell_type": "markdown",
   "metadata": {},
   "source": [
    "When finished, you can close the environment."
   ]
  },
  {
   "cell_type": "code",
   "execution_count": 8,
   "metadata": {},
   "outputs": [],
   "source": [
    "# env.close()"
   ]
  },
  {
   "cell_type": "markdown",
   "metadata": {},
   "source": [
    "### 4. It's Your Turn!\n",
    "\n",
    "Now it's your turn to train your own agent to solve the environment!  When training the environment, set `train_mode=True`, so that the line for resetting the environment looks like the following:\n",
    "```python\n",
    "env_info = env.reset(train_mode=True)[brain_name]\n",
    "```"
   ]
  },
  {
   "cell_type": "code",
   "execution_count": 9,
   "metadata": {},
   "outputs": [],
   "source": [
    "from collections import deque\n",
    "import torch\n",
    "import matplotlib.pyplot as plt\n",
    "from agents.dqn_agent import DuelingAgent"
   ]
  },
  {
   "cell_type": "code",
   "execution_count": 10,
   "metadata": {},
   "outputs": [],
   "source": [
    "device = torch.device(\"cuda:1\" if torch.cuda.is_available() else \"cpu\")"
   ]
  },
  {
   "cell_type": "code",
   "execution_count": 11,
   "metadata": {},
   "outputs": [],
   "source": [
    "def dqn(n_episodes=2000, max_t=1000, eps_start=1.0, eps_end=0.01, eps_decay=0.995, w_cost = 0., prefix='dqn'):\n",
    "    \"\"\"Deep Q-Learning.\n",
    "\n",
    "    Params\n",
    "    ======\n",
    "        n_episodes (int): maximum number of training episodes\n",
    "        max_t (int): maximum number of timesteps per episode\n",
    "        eps_start (float): starting value of epsilon, for epsilon-greedy action selection\n",
    "        eps_end (float): minimum value of epsilon\n",
    "        eps_decay (float): multiplicative factor (per episode) for decreasing epsilon\n",
    "    \"\"\"\n",
    "    scores = []  # list containing scores from each episode\n",
    "    scores_window = deque(maxlen=100)  # last 100 scores\n",
    "    eps = eps_start  # initialize epsilon\n",
    "    for i_episode in range(1, n_episodes + 1):\n",
    "        env_info = env.reset(train_mode=True)[brain_name]\n",
    "        state = env_info.vector_observations[0]  # get the current state\n",
    "        score = 0\n",
    "        for t in range(max_t):\n",
    "            action = agent.act(state, eps)\n",
    "            env_info = env.step(action)[brain_name]\n",
    "            next_state = env_info.vector_observations[0]\n",
    "            reward = env_info.rewards[0]\n",
    "            done = env_info.local_done[0]\n",
    "            \n",
    "            # \"walk\" penalty\n",
    "            eps = 1.0e-2 # Don't wonder around aimlessly\n",
    "            if (reward < eps ) and (reward > -eps):\n",
    "                reward = w_cost\n",
    "            \n",
    "            agent.step(state, action, reward, next_state, done)\n",
    "            score += reward\n",
    "            state = next_state\n",
    "            if done:\n",
    "                break\n",
    "        scores_window.append(score)  # save most recent score\n",
    "        scores.append(score)  # save most recent score\n",
    "        eps = max(eps_end, eps_decay * eps)  # decrease epsilon\n",
    "\n",
    "        print('\\rEpisode {}\\tAverage Score: {:.2f}, Recent Score: {:.2f}'.format(i_episode, np.mean(scores_window), score), end=\"\")\n",
    "        if i_episode % 100 == 0:\n",
    "            print('\\rEpisode {}\\tAverage Score: {:.2f}'.format(i_episode, np.mean(scores_window)))\n",
    "        if np.mean(scores_window) >= 13.0:\n",
    "            print('\\nEnvironment solved in {:d} episodes!\\tAverage Score: {:.2f},  Recent Score: {:.2f}'.format(\n",
    "                i_episode - 100,\n",
    "                np.mean(scores_window), score))\n",
    "            torch.save(agent.qnetwork_local.state_dict(), './models/{}_checkpoint.pth'.format(prefix))\n",
    "            break\n",
    "            \n",
    "    return scores\n"
   ]
  },
  {
   "cell_type": "markdown",
   "metadata": {},
   "source": [
    "# Prioritized Sampling"
   ]
  },
  {
   "cell_type": "markdown",
   "metadata": {},
   "source": []
  },
  {
   "cell_type": "markdown",
   "metadata": {},
   "source": [
    "## Double DQN\n",
    "* Use some walk penalty to speed up learning"
   ]
  },
  {
   "cell_type": "code",
   "execution_count": 12,
   "metadata": {
    "scrolled": true
   },
   "outputs": [
    {
     "name": "stdout",
     "output_type": "stream",
     "text": [
      "Episode 100\tAverage Score: 7.52, Recent Score: 3.00\n",
      "Episode 200\tAverage Score: 9.31, Recent Score: 13.00\n",
      "Episode 300\tAverage Score: 9.80, Recent Score: 5.0000\n",
      "Episode 400\tAverage Score: 9.62, Recent Score: 3.0000\n",
      "Episode 500\tAverage Score: 10.22, Recent Score: 13.00\n",
      "Episode 600\tAverage Score: 10.68, Recent Score: 10.00\n",
      "Episode 700\tAverage Score: 10.41, Recent Score: 9.000\n",
      "Episode 800\tAverage Score: 10.91, Recent Score: 15.00\n",
      "Episode 900\tAverage Score: 11.55, Recent Score: 13.00\n",
      "Episode 1000\tAverage Score: 10.59, Recent Score: 12.00\n",
      "Episode 1100\tAverage Score: 10.33, Recent Score: 9.000\n",
      "Episode 1200\tAverage Score: 10.91, Recent Score: 12.00\n",
      "Episode 1300\tAverage Score: 11.83, Recent Score: 14.00\n",
      "Episode 1400\tAverage Score: 11.80, Recent Score: 15.00\n",
      "Episode 1500\tAverage Score: 12.19, Recent Score: 17.00\n",
      "Episode 1600\tAverage Score: 11.60, Recent Score: 8.000\n",
      "Episode 1700\tAverage Score: 11.99, Recent Score: 15.00\n",
      "Episode 1800\tAverage Score: 11.19, Recent Score: 10.00\n",
      "Episode 1900\tAverage Score: 11.41, Recent Score: 15.00\n",
      "Episode 2000\tAverage Score: 12.14, Recent Score: 13.00\n"
     ]
    }
   ],
   "source": [
    "method='doubledqn'\n",
    "alpha = 0.9\n",
    "beta0 = 0.8\n",
    "w_cost = 0.0\n",
    "\n",
    "agent = DuelingAgent(state_size=state_size, action_size=action_size, \n",
    "                     sample_method = 'prioritized', method=method,\n",
    "                     seed=0, device=device, alpha = alpha, beta0 = beta0)\n",
    "\n",
    "scores = dqn(eps_start=1.0, w_cost=w_cost,\n",
    "             prefix='Pri_a{:.1f}_b{:.1f}_duelingddqn_'.format(alpha, beta0) + method)"
   ]
  },
  {
   "cell_type": "code",
   "execution_count": 13,
   "metadata": {},
   "outputs": [
    {
     "data": {
      "image/png": "[encoded data removed]",
      "text/plain": [
       "<Figure size 432x288 with 1 Axes>"
      ]
     },
     "metadata": {
      "needs_background": "light"
     },
     "output_type": "display_data"
    }
   ],
   "source": [
    "# plot the scores\n",
    "fig = plt.figure()\n",
    "ax = fig.add_subplot(111)\n",
    "plt.plot(np.arange(len(scores)), scores)\n",
    "plt.ylabel('Score')\n",
    "plt.xlabel('Episode #')\n",
    "plt.show()"
   ]
  },
  {
   "cell_type": "markdown",
   "metadata": {},
   "source": [
    "## DQN \n",
    "* Some walk penalty"
   ]
  },
  {
   "cell_type": "code",
   "execution_count": 14,
   "metadata": {},
   "outputs": [
    {
     "name": "stdout",
     "output_type": "stream",
     "text": [
      "Episode 100\tAverage Score: 6.95, Recent Score: 10.00\n",
      "Episode 200\tAverage Score: 8.70, Recent Score: 13.00\n",
      "Episode 300\tAverage Score: 9.26, Recent Score: 13.00\n",
      "Episode 400\tAverage Score: 9.76, Recent Score: 7.000\n",
      "Episode 500\tAverage Score: 8.75, Recent Score: 4.000\n",
      "Episode 600\tAverage Score: 8.68, Recent Score: 10.00\n",
      "Episode 700\tAverage Score: 9.89, Recent Score: 9.0000\n",
      "Episode 800\tAverage Score: 8.89, Recent Score: 14.000\n",
      "Episode 900\tAverage Score: 9.02, Recent Score: 15.00\n",
      "Episode 1000\tAverage Score: 11.08, Recent Score: 7.00\n",
      "Episode 1100\tAverage Score: 11.86, Recent Score: 17.00\n",
      "Episode 1200\tAverage Score: 10.88, Recent Score: 4.000\n",
      "Episode 1300\tAverage Score: 9.90, Recent Score: 8.0000\n",
      "Episode 1400\tAverage Score: 10.53, Recent Score: 1.000\n",
      "Episode 1500\tAverage Score: 11.92, Recent Score: 17.00\n",
      "Episode 1600\tAverage Score: 11.29, Recent Score: 15.00\n",
      "Episode 1700\tAverage Score: 10.59, Recent Score: 3.000\n",
      "Episode 1800\tAverage Score: 10.86, Recent Score: 8.000\n",
      "Episode 1900\tAverage Score: 12.35, Recent Score: 12.00\n",
      "Episode 2000\tAverage Score: 10.76, Recent Score: 9.000\n"
     ]
    }
   ],
   "source": [
    "method='dqn'\n",
    "alpha = 0.9\n",
    "beta0 = 0.8\n",
    "w_cost = 0.0\n",
    "\n",
    "agent = DuelingAgent(state_size=state_size, action_size=action_size,  sample_method = 'prioritized', \n",
    "                     method=method, seed=0, device=device, alpha = alpha, beta0 = beta0)\n",
    "\n",
    "scores = dqn(eps_start=1.0, w_cost=w_cost, \n",
    "             prefix='Pri_a{:.1f}_b{:.1f}_duelingdqn_'.format(alpha, beta0) + method)"
   ]
  },
  {
   "cell_type": "code",
   "execution_count": 15,
   "metadata": {},
   "outputs": [
    {
     "data": {
      "image/png": "[encoded data removed]",
      "text/plain": [
       "<Figure size 432x288 with 1 Axes>"
      ]
     },
     "metadata": {
      "needs_background": "light"
     },
     "output_type": "display_data"
    }
   ],
   "source": [
    "# plot the scores\n",
    "fig = plt.figure()\n",
    "ax = fig.add_subplot(111)\n",
    "plt.plot(np.arange(len(scores)), scores)\n",
    "plt.ylabel('Score')\n",
    "plt.xlabel('Episode #')\n",
    "plt.show()"
   ]
  },
  {
   "cell_type": "markdown",
   "metadata": {},
   "source": [
    "# Using Uniform Resampling"
   ]
  },
  {
   "cell_type": "markdown",
   "metadata": {},
   "source": [
    "## Double DQN"
   ]
  },
  {
   "cell_type": "code",
   "execution_count": 16,
   "metadata": {},
   "outputs": [
    {
     "name": "stdout",
     "output_type": "stream",
     "text": [
      "Episode 100\tAverage Score: 8.10, Recent Score: 7.00\n",
      "Episode 200\tAverage Score: 10.29, Recent Score: 11.00\n",
      "Episode 300\tAverage Score: 10.68, Recent Score: 17.00\n",
      "Episode 400\tAverage Score: 11.07, Recent Score: 15.00\n",
      "Episode 500\tAverage Score: 11.40, Recent Score: 9.000\n",
      "Episode 600\tAverage Score: 11.03, Recent Score: 9.000\n",
      "Episode 700\tAverage Score: 11.40, Recent Score: 18.00\n",
      "Episode 800\tAverage Score: 11.40, Recent Score: 12.00\n",
      "Episode 900\tAverage Score: 10.79, Recent Score: 11.00\n",
      "Episode 1000\tAverage Score: 11.60, Recent Score: 6.00\n",
      "Episode 1100\tAverage Score: 12.28, Recent Score: 9.000\n",
      "Episode 1200\tAverage Score: 11.02, Recent Score: 10.00\n",
      "Episode 1300\tAverage Score: 11.18, Recent Score: 7.000\n",
      "Episode 1400\tAverage Score: 11.07, Recent Score: 11.00\n",
      "Episode 1500\tAverage Score: 11.41, Recent Score: 15.00\n",
      "Episode 1600\tAverage Score: 11.10, Recent Score: 11.00\n",
      "Episode 1700\tAverage Score: 11.28, Recent Score: 16.00\n",
      "Episode 1800\tAverage Score: 11.18, Recent Score: 17.00\n",
      "Episode 1900\tAverage Score: 10.47, Recent Score: 11.00\n",
      "Episode 2000\tAverage Score: 11.13, Recent Score: 6.000\n"
     ]
    }
   ],
   "source": [
    "method='doubledqn'\n",
    "w_cost = 0.0\n",
    "\n",
    "agent = DuelingAgent(state_size=state_size, action_size=action_size,\n",
    "                     sample_method = 'uniform', method=method, seed=0)\n",
    "\n",
    "scores = dqn(eps_start=1.0, eps_decay=0.995, w_cost=w_cost, \n",
    "             prefix='Unif_duelingddqn_' + method)"
   ]
  },
  {
   "cell_type": "code",
   "execution_count": 17,
   "metadata": {},
   "outputs": [
    {
     "data": {
      "image/png": "[encoded data removed]",
      "text/plain": [
       "<Figure size 432x288 with 1 Axes>"
      ]
     },
     "metadata": {
      "needs_background": "light"
     },
     "output_type": "display_data"
    }
   ],
   "source": [
    "# plot the scores\n",
    "fig = plt.figure()\n",
    "ax = fig.add_subplot(111)\n",
    "plt.plot(np.arange(len(scores)), scores)\n",
    "plt.ylabel('Score')\n",
    "plt.xlabel('Episode #')\n",
    "plt.show()"
   ]
  },
  {
   "cell_type": "markdown",
   "metadata": {},
   "source": [
    "## DQN"
   ]
  },
  {
   "cell_type": "code",
   "execution_count": 18,
   "metadata": {},
   "outputs": [
    {
     "name": "stdout",
     "output_type": "stream",
     "text": [
      "Episode 100\tAverage Score: 4.26, Recent Score: 9.00\n",
      "Episode 200\tAverage Score: 7.97, Recent Score: 10.00\n",
      "Episode 300\tAverage Score: 9.29, Recent Score: 9.000\n",
      "Episode 400\tAverage Score: 10.48, Recent Score: 14.00\n",
      "Episode 500\tAverage Score: 11.17, Recent Score: 11.00\n",
      "Episode 600\tAverage Score: 9.77, Recent Score: 10.000\n",
      "Episode 700\tAverage Score: 10.04, Recent Score: 10.00\n",
      "Episode 800\tAverage Score: 10.76, Recent Score: 12.00\n",
      "Episode 900\tAverage Score: 10.77, Recent Score: 7.000\n",
      "Episode 1000\tAverage Score: 10.82, Recent Score: 9.00\n",
      "Episode 1100\tAverage Score: 9.80, Recent Score: 2.0000\n",
      "Episode 1200\tAverage Score: 10.35, Recent Score: 11.00\n",
      "Episode 1300\tAverage Score: 10.68, Recent Score: 8.000\n",
      "Episode 1400\tAverage Score: 11.42, Recent Score: 13.00\n",
      "Episode 1500\tAverage Score: 10.97, Recent Score: 16.00\n",
      "Episode 1600\tAverage Score: 11.08, Recent Score: 17.00\n",
      "Episode 1700\tAverage Score: 10.98, Recent Score: 8.000\n",
      "Episode 1800\tAverage Score: 10.59, Recent Score: 7.000\n",
      "Episode 1900\tAverage Score: 11.66, Recent Score: 10.00\n",
      "Episode 2000\tAverage Score: 11.22, Recent Score: 14.00\n"
     ]
    }
   ],
   "source": [
    "method='dqn'\n",
    "w_cost = 0.0\n",
    "\n",
    "agent = DuelingAgent(state_size=state_size, action_size=action_size, \n",
    "                     sample_method = 'uniform', method=method, seed=0)\n",
    "\n",
    "scores = dqn(eps_start=1.0, eps_decay=0.995, w_cost=w_cost,\n",
    "             prefix='Unif_duelingdqn_' + method)"
   ]
  },
  {
   "cell_type": "code",
   "execution_count": 19,
   "metadata": {},
   "outputs": [
    {
     "data": {
      "image/png": "[encoded data removed]",
      "text/plain": [
       "<Figure size 432x288 with 1 Axes>"
      ]
     },
     "metadata": {
      "needs_background": "light"
     },
     "output_type": "display_data"
    }
   ],
   "source": [
    "# plot the scores\n",
    "fig = plt.figure()\n",
    "ax = fig.add_subplot(111)\n",
    "plt.plot(np.arange(len(scores)), scores)\n",
    "plt.ylabel('Score')\n",
    "plt.xlabel('Episode #')\n",
    "plt.show()"
   ]
  },
  {
   "cell_type": "code",
   "execution_count": null,
   "metadata": {},
   "outputs": [],
   "source": []
  }
 ],
 "metadata": {
  "kernelspec": {
   "display_name": "Python 3",
   "language": "python",
   "name": "python3"
  },
  "language_info": {
   "codemirror_mode": {
    "name": "ipython",
    "version": 3
   },
   "file_extension": ".py",
   "mimetype": "text/x-python",
   "name": "python",
   "nbconvert_exporter": "python",
   "pygments_lexer": "ipython3",
   "version": "3.5.5"
  }
 },
 "nbformat": 4,
 "nbformat_minor": 2
}
